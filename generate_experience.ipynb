{
 "cells": [
  {
   "cell_type": "code",
   "execution_count": 4,
   "metadata": {},
   "outputs": [
    {
     "name": "stdout",
     "output_type": "stream",
     "text": [
      "Requirement already satisfied: langchain in c:\\users\\abdes\\appdata\\local\\packages\\pythonsoftwarefoundation.python.3.11_qbz5n2kfra8p0\\localcache\\local-packages\\python311\\site-packages (0.2.11)\n",
      "Requirement already satisfied: langchain-openai in c:\\users\\abdes\\appdata\\local\\packages\\pythonsoftwarefoundation.python.3.11_qbz5n2kfra8p0\\localcache\\local-packages\\python311\\site-packages (0.1.19)\n",
      "Requirement already satisfied: langchain-community in c:\\users\\abdes\\appdata\\local\\packages\\pythonsoftwarefoundation.python.3.11_qbz5n2kfra8p0\\localcache\\local-packages\\python311\\site-packages (0.2.10)\n",
      "Requirement already satisfied: langchain-core in c:\\users\\abdes\\appdata\\local\\packages\\pythonsoftwarefoundation.python.3.11_qbz5n2kfra8p0\\localcache\\local-packages\\python311\\site-packages (0.2.24)\n",
      "Requirement already satisfied: openai in c:\\users\\abdes\\appdata\\local\\packages\\pythonsoftwarefoundation.python.3.11_qbz5n2kfra8p0\\localcache\\local-packages\\python311\\site-packages (1.37.1)\n",
      "Requirement already satisfied: pypdf in c:\\users\\abdes\\appdata\\local\\packages\\pythonsoftwarefoundation.python.3.11_qbz5n2kfra8p0\\localcache\\local-packages\\python311\\site-packages (4.3.1)\n",
      "Requirement already satisfied: azure-keyvault-secrets in c:\\users\\abdes\\appdata\\local\\packages\\pythonsoftwarefoundation.python.3.11_qbz5n2kfra8p0\\localcache\\local-packages\\python311\\site-packages (4.8.0)\n",
      "Requirement already satisfied: azure-identity in c:\\users\\abdes\\appdata\\local\\packages\\pythonsoftwarefoundation.python.3.11_qbz5n2kfra8p0\\localcache\\local-packages\\python311\\site-packages (1.17.1)\n",
      "Requirement already satisfied: faiss-cpu in c:\\users\\abdes\\appdata\\local\\packages\\pythonsoftwarefoundation.python.3.11_qbz5n2kfra8p0\\localcache\\local-packages\\python311\\site-packages (1.8.0.post1)\n",
      "Collecting dotenv\n",
      "  Downloading dotenv-0.0.5.tar.gz (2.4 kB)\n",
      "  Installing build dependencies: started\n",
      "  Installing build dependencies: finished with status 'done'\n",
      "  Getting requirements to build wheel: started\n",
      "  Getting requirements to build wheel: finished with status 'done'\n",
      "  Installing backend dependencies: started\n",
      "  Installing backend dependencies: finished with status 'error'\n"
     ]
    },
    {
     "name": "stderr",
     "output_type": "stream",
     "text": [
      "  error: subprocess-exited-with-error\n",
      "  \n",
      "  × pip subprocess to install backend dependencies did not run successfully.\n",
      "  │ exit code: 1\n",
      "  ╰─> [35 lines of output]\n",
      "      Collecting distribute\n",
      "        Downloading distribute-0.7.3.zip (145 kB)\n",
      "           ---------------------------------------- 0.0/145.4 kB ? eta -:--:--\n",
      "           ---------- -------------------------- 41.0/145.4 kB 991.0 kB/s eta 0:00:01\n",
      "           -------------------------------------- 145.4/145.4 kB 2.2 MB/s eta 0:00:00\n",
      "        Installing build dependencies: started\n",
      "        Installing build dependencies: finished with status 'done'\n",
      "        Getting requirements to build wheel: started\n",
      "        Getting requirements to build wheel: finished with status 'done'\n",
      "        Preparing metadata (pyproject.toml): started\n",
      "        Preparing metadata (pyproject.toml): finished with status 'error'\n",
      "        error: subprocess-exited-with-error\n",
      "      \n",
      "        Ã— Preparing metadata (pyproject.toml) did not run successfully.\n",
      "        â”‚ exit code: 1\n",
      "        â•°â”€> [6 lines of output]\n",
      "            usage: setup.py [global_opts] cmd1 [cmd1_opts] [cmd2 [cmd2_opts] ...]\n",
      "               or: setup.py --help [cmd1 cmd2 ...]\n",
      "               or: setup.py --help-commands\n",
      "               or: setup.py cmd --help\n",
      "      \n",
      "            error: invalid command 'dist_info'\n",
      "            [end of output]\n",
      "      \n",
      "        note: This error originates from a subprocess, and is likely not a problem with pip.\n",
      "      error: metadata-generation-failed\n",
      "      \n",
      "      Ã— Encountered error while generating package metadata.\n",
      "      â•°â”€> See above for output.\n",
      "      \n",
      "      note: This is an issue with the package mentioned above, not pip.\n",
      "      hint: See above for details.\n",
      "      \n",
      "      [notice] A new release of pip is available: 24.0 -> 24.2\n",
      "      [notice] To update, run: C:\\Users\\abdes\\AppData\\Local\\Microsoft\\WindowsApps\\PythonSoftwareFoundation.Python.3.11_qbz5n2kfra8p0\\python.exe -m pip install --upgrade pip\n",
      "      [end of output]\n",
      "  \n",
      "  note: This error originates from a subprocess, and is likely not a problem with pip.\n",
      "error: subprocess-exited-with-error\n",
      "\n",
      "× pip subprocess to install backend dependencies did not run successfully.\n",
      "│ exit code: 1\n",
      "╰─> See above for output.\n",
      "\n",
      "note: This error originates from a subprocess, and is likely not a problem with pip.\n",
      "\n",
      "[notice] A new release of pip is available: 24.0 -> 24.2\n",
      "[notice] To update, run: C:\\Users\\abdes\\AppData\\Local\\Microsoft\\WindowsApps\\PythonSoftwareFoundation.Python.3.11_qbz5n2kfra8p0\\python.exe -m pip install --upgrade pip\n"
     ]
    }
   ],
   "source": [
    "!pip install langchain langchain-openai langchain-community langchain-core openai pypdf azure-keyvault-secrets azure-identity faiss-cpu dotenv"
   ]
  },
  {
   "cell_type": "code",
   "execution_count": 2,
   "metadata": {},
   "outputs": [],
   "source": [
    "import json\n",
    "import os\n",
    "from azure.identity import DefaultAzureCredential\n",
    "from langchain_openai import OpenAI\n",
    "from langchain.prompts import PromptTemplate\n",
    "from langchain_community.document_loaders import PyPDFLoader\n",
    "from langchain.text_splitter import CharacterTextSplitter\n",
    "from langchain.chains import LLMChain\n",
    "from langchain_openai import AzureOpenAI, AzureChatOpenAI\n",
    "from langchain_core.messages import HumanMessage"
   ]
  },
  {
   "cell_type": "code",
   "execution_count": 5,
   "metadata": {},
   "outputs": [
    {
     "data": {
      "text/plain": [
       "True"
      ]
     },
     "execution_count": 5,
     "metadata": {},
     "output_type": "execute_result"
    }
   ],
   "source": [
    "from dotenv import load_dotenv\n",
    "\n",
    "load_dotenv()"
   ]
  },
  {
   "cell_type": "code",
   "execution_count": 6,
   "metadata": {},
   "outputs": [],
   "source": [
    "from openai import AzureOpenAI\n",
    "\n",
    "deployment_name = \"uptale-gpt-35-turbo\"\n",
    "\n",
    "llm = AzureChatOpenAI(\n",
    "    azure_deployment=deployment_name\n",
    ")"
   ]
  },
  {
   "cell_type": "code",
   "execution_count": 7,
   "metadata": {},
   "outputs": [],
   "source": [
    "def process_pdf(file_path):\n",
    "    loader = PyPDFLoader(file_path)\n",
    "    documents = loader.load()\n",
    "    text_splitter = CharacterTextSplitter(chunk_size=1000, chunk_overlap=0)\n",
    "    texts = text_splitter.split_documents(documents)\n",
    "    return texts"
   ]
  },
  {
   "cell_type": "code",
   "execution_count": 13,
   "metadata": {},
   "outputs": [],
   "source": [
    "def generate_title(texts):\n",
    "    combined_text = \" \".join(text.page_content for text in texts)\n",
    "    prompt = PromptTemplate(\n",
    "        input_variables=[\"document\"],\n",
    "        template=\"Create a catchy title for a 360-degree educational experience based on it.\"\n",
    "    )\n",
    "    chain = LLMChain(llm=llm, prompt=prompt)\n",
    "    response = chain.run(document=combined_text)\n",
    "    return response.strip()"
   ]
  },
  {
   "cell_type": "code",
   "execution_count": 9,
   "metadata": {},
   "outputs": [],
   "source": [
    "def generate_scenes(texts, num_scenes=5):\n",
    "    combined_text = \" \".join(text.page_content for text in texts)\n",
    "    scenes = []\n",
    "    for i in range(num_scenes):\n",
    "        prompt = PromptTemplate(\n",
    "            input_variables=[\"scene_number\", \"document\"],\n",
    "            template=\"\"\"\n",
    "            Create scene {scene_number} for a 360-degree educational experience based on the document content.\n",
    "            Include:\n",
    "            1. A brief description of the scene\n",
    "            2. Educational content relevant to the document\n",
    "            3. A transition to the next scene (use one of the following):\n",
    "               - Tag Door => Target Scene\n",
    "               - Tag QCM => Go to Scene (with up to 4 multiple-choice answers)\n",
    "               - Tag Microphone Rules => Allow to trigger an action to go to another scene\n",
    "\n",
    "            Format the output as a JSON object.\n",
    "            \"\"\"\n",
    "        )\n",
    "        chain = LLMChain(llm=llm, prompt=prompt)\n",
    "        scene = chain.run(scene_number=i+1, document=combined_text)\n",
    "        try:\n",
    "            scenes.append(json.loads(scene))\n",
    "        except json.JSONDecodeError:\n",
    "            print(f\"Error parsing JSON for scene {i+1}. Skipping this scene.\")\n",
    "    return scenes"
   ]
  },
  {
   "cell_type": "code",
   "execution_count": 10,
   "metadata": {},
   "outputs": [],
   "source": [
    "def generate_360_experience(pdf_path):\n",
    "    texts = process_pdf(pdf_path)\n",
    "    title = generate_title(texts)\n",
    "    scenes = generate_scenes(texts)\n",
    "\n",
    "    experience = {\n",
    "        \"title\": title,\n",
    "        \"scenes\": scenes\n",
    "    }\n",
    "\n",
    "    return json.dumps(experience, indent=2)"
   ]
  },
  {
   "cell_type": "code",
   "execution_count": 14,
   "metadata": {},
   "outputs": [
    {
     "name": "stdout",
     "output_type": "stream",
     "text": [
      "{\n",
      "  \"title\": \"\\\"Revolutionizing Education: A 360-Degree Journey towards Limitless Learning\\\"\",\n",
      "  \"scenes\": [\n",
      "    {\n",
      "      \"scene1\": {\n",
      "        \"description\": \"Scene 1 takes place in a virtual classroom. The room is equipped with interactive whiteboards, desks with tablets, and a teacher's desk at the front.\",\n",
      "        \"educationalContent\": \"The document discusses the benefits of using technology in education. It highlights how interactive whiteboards and tablets can enhance student engagement and learning outcomes.\",\n",
      "        \"transition\": {\n",
      "          \"tag\": \"Tag Door\",\n",
      "          \"targetScene\": \"scene2\"\n",
      "        }\n",
      "      }\n",
      "    },\n",
      "    {\n",
      "      \"scene2\": {\n",
      "        \"description\": \"Scene 2: The Rainforest\",\n",
      "        \"educationalContent\": \"In this scene, the user is transported to a lush rainforest. They are surrounded by tall trees, vibrant flowers, and the sound of chirping birds. The immersive experience allows the user to explore the different layers of the rainforest ecosystem and learn about its biodiversity, including various species of plants, animals, and insects.\",\n",
      "        \"transition\": {\n",
      "          \"tagDoor\": \"scene3\"\n",
      "        }\n",
      "      }\n",
      "    },\n",
      "    {\n",
      "      \"scene3\": {\n",
      "        \"description\": \"Scene 3: The Human Body\",\n",
      "        \"educationalContent\": \"In this scene, the user is transported inside the human body to explore its different systems. The user can see the skeletal system, muscular system, circulatory system, respiratory system, and digestive system. Each system is labeled with detailed information about its functions and the organs it comprises. The user can rotate and zoom in to get a better understanding of how the systems work together.\",\n",
      "        \"transition\": {\n",
      "          \"tagDoor\": \"scene4\"\n",
      "        }\n",
      "      }\n",
      "    },\n",
      "    {\n",
      "      \"scene\": 4,\n",
      "      \"description\": \"Scene 4 takes place in a historical museum. The room is filled with artifacts and displays from various time periods.\",\n",
      "      \"educational_content\": \"The educational content of this scene focuses on the importance of preserving historical artifacts and the role of museums in preserving and showcasing history. The narrator explains how museums collect, research, and care for artifacts to educate and inspire future generations.\",\n",
      "      \"transition\": {\n",
      "        \"tag\": \"Tag Door\",\n",
      "        \"target_scene\": \"Scene 5\"\n",
      "      }\n",
      "    },\n",
      "    {\n",
      "      \"scene5\": {\n",
      "        \"description\": \"Scene 5 takes place in a laboratory. The camera pans around to show various scientific equipment and tools, including beakers, test tubes, and microscopes.\",\n",
      "        \"educationalContent\": \"The educational content in this scene focuses on the importance of scientific research and experimentation. It highlights how scientists use various tools and equipment in a laboratory to conduct experiments and make discoveries.\",\n",
      "        \"transition\": {\n",
      "          \"tagDoor\": \"scene6\"\n",
      "        }\n",
      "      }\n",
      "    }\n",
      "  ]\n",
      "}\n"
     ]
    }
   ],
   "source": [
    "pdf_path = \"./content/example1.pdf\"\n",
    "experience_json = generate_360_experience(pdf_path)\n",
    "print(experience_json)\n",
    "\n",
    "# Optionally, save the JSON to a file\n",
    "with open(\"./content/360_experience.json\", \"w\") as f:\n",
    "    f.write(experience_json)"
   ]
  },
  {
   "cell_type": "code",
   "execution_count": null,
   "metadata": {},
   "outputs": [],
   "source": []
  }
 ],
 "metadata": {
  "kernelspec": {
   "display_name": "Python 3",
   "language": "python",
   "name": "python3"
  },
  "language_info": {
   "codemirror_mode": {
    "name": "ipython",
    "version": 3
   },
   "file_extension": ".py",
   "mimetype": "text/x-python",
   "name": "python",
   "nbconvert_exporter": "python",
   "pygments_lexer": "ipython3",
   "version": "3.11.9"
  }
 },
 "nbformat": 4,
 "nbformat_minor": 2
}
